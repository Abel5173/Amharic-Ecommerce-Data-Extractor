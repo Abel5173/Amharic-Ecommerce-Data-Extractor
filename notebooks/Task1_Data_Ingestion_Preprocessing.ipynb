{
 "cells": [
  {
   "cell_type": "code",
   "execution_count": 1,
   "metadata": {},
   "outputs": [],
   "source": [
    "import os\n",
    "import sys\n",
    "\n",
    "project_root = os.path.abspath(os.path.join(os.getcwd(), '..'))\n",
    "sys.path.insert(0, project_root)"
   ]
  },
  {
   "cell_type": "code",
   "execution_count": 2,
   "metadata": {},
   "outputs": [
    {
     "name": "stderr",
     "output_type": "stream",
     "text": [
      "/home/abel/Desktop/Projects/Amharic-Ecommerce-Data-Extractor/.venv/lib/python3.12/site-packages/tqdm/auto.py:21: TqdmWarning: IProgress not found. Please update jupyter and ipywidgets. See https://ipywidgets.readthedocs.io/en/stable/user_install.html\n",
      "  from .autonotebook import tqdm as notebook_tqdm\n"
     ]
    }
   ],
   "source": [
    "import pandas as pd\n",
    "from scripts.scrape_data import run_main\n",
    "from scripts.preprocess import process_csv\n",
    "from scripts.conll_formatter import process_conll"
   ]
  },
  {
   "cell_type": "markdown",
   "metadata": {},
   "source": [
    "## Scrape Data from Telegram Channels"
   ]
  },
  {
   "cell_type": "code",
   "execution_count": 3,
   "metadata": {},
   "outputs": [],
   "source": [
    "# Scrape \n",
    "# await run_main()"
   ]
  },
  {
   "cell_type": "code",
   "execution_count": 4,
   "metadata": {},
   "outputs": [],
   "source": [
    "# input_csv = '../data/raw/telegram_data.csv'\n",
    "# output_csv = '../data/processed/preprocessed_telegram_data.csv'\n",
    "# process_csv(input_csv, output_csv)"
   ]
  },
  {
   "cell_type": "code",
   "execution_count": 5,
   "metadata": {},
   "outputs": [
    {
     "name": "stderr",
     "output_type": "stream",
     "text": [
      "2025-06-24 18:52:18,599 - INFO - 📂 Loaded 69298 messages\n",
      "Some weights of XLMRobertaForTokenClassification were not initialized from the model checkpoint at Davlan/afro-xlmr-mini and are newly initialized: ['classifier.bias', 'classifier.weight']\n",
      "You should probably TRAIN this model on a down-stream task to be able to use it for predictions and inference.\n",
      "Device set to use cpu\n",
      "2025-06-24 18:52:22,891 - INFO - Loaded afro-xlmr-mini NER model\n",
      "2025-06-24 18:52:23,744 - INFO - Processed: 1/50\n",
      "2025-06-24 18:52:24,250 - INFO - Processed: 2/50\n",
      "2025-06-24 18:52:24,578 - INFO - Processed: 3/50\n",
      "2025-06-24 18:52:24,581 - WARNING - Invalid placeholder token: __PRICE_1__E_0__\n",
      "2025-06-24 18:52:24,980 - INFO - Processed: 4/50\n",
      "2025-06-24 18:52:24,982 - WARNING - Invalid placeholder token: __PRICE_1__E_0__\n",
      "2025-06-24 18:52:24,986 - WARNING - Invalid placeholder token: __PRICE_1__E_0__\n",
      "2025-06-24 18:52:25,460 - INFO - Processed: 5/50\n",
      "2025-06-24 18:52:25,797 - INFO - Processed: 6/50\n",
      "2025-06-24 18:52:26,093 - INFO - Processed: 7/50\n",
      "2025-06-24 18:52:26,432 - INFO - Processed: 8/50\n",
      "2025-06-24 18:52:26,745 - INFO - Processed: 9/50\n",
      "2025-06-24 18:52:27,113 - INFO - Processed: 10/50\n",
      "2025-06-24 18:52:27,738 - INFO - Processed: 11/50\n",
      "2025-06-24 18:52:27,748 - WARNING - Invalid placeholder token: __PRICE_1__CE_0__\n",
      "2025-06-24 18:52:28,248 - INFO - Processed: 12/50\n",
      "2025-06-24 18:52:28,257 - WARNING - Invalid placeholder token: __PRICE_1__E_0__\n",
      "2025-06-24 18:52:28,862 - INFO - Processed: 13/50\n",
      "2025-06-24 18:52:28,865 - WARNING - Invalid placeholder token: __PRICE_1__E_0__\n",
      "2025-06-24 18:52:29,662 - INFO - Processed: 14/50\n",
      "2025-06-24 18:52:29,665 - WARNING - Invalid placeholder token: __PRICE_1__E_0__\n",
      "2025-06-24 18:52:30,449 - INFO - Processed: 15/50\n",
      "2025-06-24 18:52:31,157 - INFO - Processed: 16/50\n",
      "2025-06-24 18:52:31,782 - INFO - Processed: 17/50\n",
      "2025-06-24 18:52:32,357 - INFO - Processed: 18/50\n",
      "2025-06-24 18:52:33,043 - INFO - Processed: 19/50\n",
      "2025-06-24 18:52:33,054 - WARNING - Invalid placeholder token: __PRICE_1__E_0__\n",
      "2025-06-24 18:52:33,649 - INFO - Processed: 20/50\n",
      "2025-06-24 18:52:34,242 - INFO - Processed: 21/50\n",
      "2025-06-24 18:52:34,779 - INFO - Processed: 22/50\n",
      "2025-06-24 18:52:35,372 - INFO - Processed: 23/50\n",
      "2025-06-24 18:52:35,714 - INFO - Processed: 24/50\n",
      "2025-06-24 18:52:36,077 - INFO - Processed: 25/50\n",
      "2025-06-24 18:52:36,412 - INFO - Processed: 26/50\n",
      "2025-06-24 18:52:36,879 - INFO - Processed: 27/50\n",
      "2025-06-24 18:52:37,306 - INFO - Processed: 28/50\n",
      "2025-06-24 18:52:37,706 - INFO - Processed: 29/50\n",
      "2025-06-24 18:52:38,163 - INFO - Processed: 30/50\n",
      "2025-06-24 18:52:38,595 - INFO - Processed: 31/50\n",
      "2025-06-24 18:52:38,911 - INFO - Processed: 32/50\n",
      "2025-06-24 18:52:39,212 - INFO - Processed: 33/50\n",
      "2025-06-24 18:52:39,562 - INFO - Processed: 34/50\n",
      "2025-06-24 18:52:39,864 - INFO - Processed: 35/50\n",
      "2025-06-24 18:52:40,263 - INFO - Processed: 36/50\n",
      "2025-06-24 18:52:40,614 - INFO - Processed: 37/50\n",
      "2025-06-24 18:52:40,982 - INFO - Processed: 38/50\n",
      "2025-06-24 18:52:40,991 - WARNING - Invalid placeholder token: __PRICE_1__CE_0__\n",
      "2025-06-24 18:52:41,332 - INFO - Processed: 39/50\n",
      "2025-06-24 18:52:41,336 - WARNING - Invalid placeholder token: __PRICE_1__CE_0__\n",
      "2025-06-24 18:52:41,595 - INFO - Processed: 40/50\n",
      "2025-06-24 18:52:41,849 - INFO - Processed: 41/50\n",
      "2025-06-24 18:52:41,858 - WARNING - Invalid placeholder token: __PRICE_1__CE_0__\n",
      "2025-06-24 18:52:42,194 - INFO - Processed: 42/50\n",
      "2025-06-24 18:52:42,197 - WARNING - Invalid placeholder token: __PRICE_1__CE_0__\n",
      "2025-06-24 18:52:42,616 - INFO - Processed: 43/50\n",
      "2025-06-24 18:52:43,048 - INFO - Processed: 44/50\n",
      "2025-06-24 18:52:43,298 - INFO - Processed: 45/50\n",
      "2025-06-24 18:52:43,306 - WARNING - Invalid placeholder token: __PRICE_1__E_0__\n",
      "2025-06-24 18:52:43,662 - INFO - Processed: 46/50\n",
      "2025-06-24 18:52:43,664 - WARNING - Invalid placeholder token: __PRICE_1__E_0__\n",
      "2025-06-24 18:52:43,963 - INFO - Processed: 47/50\n",
      "2025-06-24 18:52:43,966 - WARNING - Invalid placeholder token: __PRICE_1__CE_0__\n",
      "2025-06-24 18:52:44,285 - INFO - Processed: 48/50\n",
      "2025-06-24 18:52:44,295 - WARNING - Invalid placeholder token: __PRICE_1__CE_0__\n",
      "2025-06-24 18:52:44,511 - INFO - Processed: 49/50\n",
      "2025-06-24 18:52:44,514 - WARNING - Invalid placeholder token: __PRICE_1__CE_0__\n",
      "2025-06-24 18:52:44,854 - INFO - Processed: 50/50\n",
      "2025-06-24 18:52:44,859 - INFO - ✅ CoNLL data saved: ../data/labeled/conll_labelled_data.conll\n"
     ]
    }
   ],
   "source": [
    "input_csv = '../data/processed/preprocessed_telegram_data.csv'\n",
    "output_csv = '../data/labeled/conll_labelled_data.conll'\n",
    "process_conll(input_csv, output_csv, limit=50)"
   ]
  },
  {
   "cell_type": "code",
   "execution_count": null,
   "metadata": {},
   "outputs": [],
   "source": []
  }
 ],
 "metadata": {
  "kernelspec": {
   "display_name": ".venv",
   "language": "python",
   "name": "python3"
  },
  "language_info": {
   "codemirror_mode": {
    "name": "ipython",
    "version": 3
   },
   "file_extension": ".py",
   "mimetype": "text/x-python",
   "name": "python",
   "nbconvert_exporter": "python",
   "pygments_lexer": "ipython3",
   "version": "3.12.3"
  }
 },
 "nbformat": 4,
 "nbformat_minor": 2
}
